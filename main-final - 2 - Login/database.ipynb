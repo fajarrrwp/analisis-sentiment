{
 "cells": [
  {
   "cell_type": "code",
   "execution_count": null,
   "id": "938774e9",
   "metadata": {},
   "outputs": [
    {
     "name": "stdout",
     "output_type": "stream",
     "text": [
      "Mencoba menampilkan isi dari 'instance/sentiment_data.db'...\n",
      "\n",
      "--- Menampilkan Database: 'instance/sentiment_data.db' ---\n",
      "\n",
      "## Tabel: user\n",
      "  id | username | password_hash\n",
      "  -----------------------------\n",
      "  1 | admin | scrypt:32768:8:1$W5tVkN5224nYrLpp$83c2b63eaf603f5305ca21195039fb8d89901fce5ef278535e1c60ba24e739d6cc6f13f50744bbe3fac9d4e9ef6297f624d3a8f8ea7c824aa8b2f14c7827d6d8\n",
      "  2 | fajar | scrypt:32768:8:1$FI2zVAeGkZLy3PR2$b8e37038a046b8edc83b8d0489384fee1f73cb61e6e092ac11a1b0941212af7b2a1969ff36372944f5adf6df6b8c4048f92b475fc768c4765fac97110a809154\n",
      "\n",
      "## Tabel: history\n",
      "  id | timestamp | input_text | naive_bayes_label | naive_bayes_probability | naive_bayes_all_probs | naive_bayes_accuracy | logistic_regression_label | logistic_regression_probability | logistic_regression_all_probs | logistic_regression_accuracy | actual_label_retrieved | user_id\n",
      "  ----------------------------------------------------------------------------------------------------------------------------------------------------------------------------------------------------------------------------------------------------------------------------------------\n",
      "  1 | 2025-05-25 09:22:20.831984 | unggul | positif | 61.24% | {\"negatif\": 0.3045596233447405, \"netral\": 0.08302915058605186, \"positif\": 0.612411226069208} | 1.00 | positif | 43.38% | {\"negatif\": 0.2194433428748686, \"netral\": 0.3467739467151643, \"positif\": 0.433782710409967} | 1.00 | positif | 1\n",
      "  2 | 2025-05-25 11:36:42.335500 | ikhtiar baik jawa timur lum kerja masyarakat wis sak mestine ojo lali masyarakat malang raya nomor iya ker dpppkb lumanofficial lulukhamidah | negatif | 53.63% | {\"negatif\": 0.5363032905972718, \"netral\": 0.04433197842486199, \"positif\": 0.41936473097786436} | 1.00 | positif | 42.81% | {\"negatif\": 0.3654640534608325, \"netral\": 0.20647251063687463, \"positif\": 0.42806343590229284} | 0.00 | negatif | 1\n",
      "  3 | 2025-05-25 14:36:51.537811 | kirab maskot pilih kepala daerah serentak kapolres ngawi akbp dwi sumrahadi rakhmanto sh sik mh forkopimda kabupaten ngawi hadir kirab maskot pilih kepala daerah serentak maskot pilih kepala daerah serentak kali bernmama si jalil jatim pilih amp sang pendem tegak demokrasi | positif | 66.75% | {\"negatif\": 0.22342284404271412, \"netral\": 0.10907322979574628, \"positif\": 0.6675039261615426} | 0.00 | positif | 40.37% | {\"negatif\": 0.26369587695471153, \"netral\": 0.33263113162269764, \"positif\": 0.40367299142259094} | 0.00 | netral | 1\n",
      "  4 | 2025-05-25 14:37:04.105654 | daya jatim iya bu | positif | 56.78% | {\"negatif\": 0.34242100491237726, \"netral\": 0.08982529280138622, \"positif\": 0.5677537022862361} | 0.00 | netral | 47.57% | {\"negatif\": 0.21855647450121551, \"netral\": 0.4757356879390107, \"positif\": 0.3057078375597739} | 1.00 | netral | 1\n",
      "  5 | 2025-05-25 15:08:36.967403 | kampanye kampung pdip surabaya rismagus hans eriarmuji rakyat | positif | 57.66% | {\"negatif\": 0.37483342017664745, \"netral\": 0.04854897628539056, \"positif\": 0.5766176035379613} | 1.00 | positif | 50.29% | {\"negatif\": 0.31298978289384866, \"netral\": 0.18406791512958748, \"positif\": 0.5029423019765639} | 1.00 | positif | 1\n",
      "  ... (menampilkan 5 dari 9 baris)\n"
     ]
    }
   ],
   "source": [
    "import sqlite3\n",
    "\n",
    "def display_sqlite_database_vertical(db_name):\n",
    "    \"\"\"\n",
    "    Menampilkan semua tabel dan semua baris dari setiap tabel\n",
    "    dalam database SQLite dengan format vertikal per baris.\n",
    "    \"\"\"\n",
    "    try:\n",
    "        conn = sqlite3.connect(db_name)\n",
    "        cursor = conn.cursor()\n",
    "\n",
    "        # Mendapatkan daftar semua tabel\n",
    "        cursor.execute(\"SELECT name FROM sqlite_master WHERE type='table';\")\n",
    "        tables = cursor.fetchall()\n",
    "\n",
    "        if not tables:\n",
    "            print(f\"Tidak ada tabel ditemukan di database '{db_name}'.\")\n",
    "            print(\"Pastikan file database ada di direktori yang sama dengan script Python ini,\")\n",
    "            print(\"atau berikan path lengkap ke file database.\")\n",
    "            return\n",
    "\n",
    "        print(f\"--- Menampilkan Database: '{db_name}' (Format Vertikal) ---\")\n",
    "        for table_info in tables:\n",
    "            table_name = table_info[0]\n",
    "            print(f\"\\n\\n================ TABEL: {table_name} ================\")\n",
    "\n",
    "            try:\n",
    "                # Mengambil semua baris dari tabel\n",
    "                cursor.execute(f\"SELECT * FROM \\\"{table_name}\\\";\") # Menggunakan tanda kutip untuk nama tabel\n",
    "                rows = cursor.fetchall()\n",
    "\n",
    "                if not rows:\n",
    "                    print(\"  (Tabel kosong)\")\n",
    "                else:\n",
    "                    column_names = [description[0] for description in cursor.description]\n",
    "                    \n",
    "                    for i, row in enumerate(rows):\n",
    "                        print(f\"\\n--- Baris ke-{i + 1} ---\")\n",
    "                        for col_name, value in zip(column_names, row):\n",
    "                            print(f\"  {col_name}: {value}\")\n",
    "                    \n",
    "                    total_rows = len(rows)\n",
    "                    print(f\"\\n--- Total {total_rows} baris ditampilkan untuk tabel '{table_name}' ---\")\n",
    "\n",
    "            except sqlite3.Error as e_table:\n",
    "                print(f\"  Error saat membaca tabel '{table_name}': {e_table}\")\n",
    "\n",
    "    except sqlite3.Error as e:\n",
    "        print(f\"Error saat terhubung atau mengambil data dari database SQLite '{db_name}': {e}\")\n",
    "        print(\"Pastikan file database ada dan tidak rusak.\")\n",
    "    finally:\n",
    "        if 'conn' in locals() and conn:\n",
    "            conn.close()\n",
    "\n",
    "if __name__ == \"__main__\":\n",
    "    database_file = 'instance/sentiment_data.db' # Nama database Anda\n",
    "    print(f\"Mencoba menampilkan isi dari '{database_file}' dengan format vertikal...\\n\")\n",
    "    display_sqlite_database_vertical(database_file)"
   ]
  }
 ],
 "metadata": {
  "kernelspec": {
   "display_name": "Python 3",
   "language": "python",
   "name": "python3"
  },
  "language_info": {
   "codemirror_mode": {
    "name": "ipython",
    "version": 3
   },
   "file_extension": ".py",
   "mimetype": "text/x-python",
   "name": "python",
   "nbconvert_exporter": "python",
   "pygments_lexer": "ipython3",
   "version": "3.11.9"
  }
 },
 "nbformat": 4,
 "nbformat_minor": 5
}
